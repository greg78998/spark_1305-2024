{
 "cells": [
  {
   "cell_type": "markdown",
   "metadata": {
    "application/vnd.databricks.v1+cell": {
     "cellMetadata": {},
     "inputWidgets": {},
     "nuid": "45b26a74-db7e-4ca2-85bf-796b0977d304",
     "showTitle": false,
     "title": ""
    }
   },
   "source": [
    "# Introduction to Spark\n",
    "\n",
    "## how to use markdown\n",
    "https://grabngoinfo.com/databricks-notebook-markdown-cheat-sheet/"
   ]
  },
  {
   "cell_type": "markdown",
   "metadata": {
    "application/vnd.databricks.v1+cell": {
     "cellMetadata": {},
     "inputWidgets": {},
     "nuid": "5847308e-cff9-440f-8e87-65ab072029c6",
     "showTitle": false,
     "title": ""
    }
   },
   "source": [
    "A **spark session** is not necessarly needed in databricks\n",
    "\n",
    "Using a builder design pattern, it instantiates a SparkSession object if one does not already exist, along with its associated underlying contexts.\n",
    "\n",
    "Otherwise, we should create a SparkSession in your notebook python / scala / R\n",
    "\n",
    "To prouve this, we can create a new databrick notebook (new session) and execute \"spark\""
   ]
  },
  {
   "cell_type": "code",
   "execution_count": null,
   "metadata": {
    "application/vnd.databricks.v1+cell": {
     "cellMetadata": {},
     "inputWidgets": {},
     "nuid": "a96d3503-638a-4b23-92e2-863eb26bb543",
     "showTitle": false,
     "title": ""
    }
   },
   "outputs": [],
   "source": [
    "from os.path import abspath\n",
    "from pyspark.sql import SparkSession\n",
    "\n",
    "# warehouse_location\n",
    "warehouse_location = abspath('spark-warehouse')\n",
    "\n",
    "# Create spark session with hive enabled\n",
    "spark = (\n",
    "    SparkSession \n",
    "    .builder\n",
    "    .appName(\"SparkByExamples.com\")\n",
    "#     .config(\"spark.sql.warehouse.dir\", warehouse_location)\n",
    "    .enableHiveSupport()\n",
    "    .getOrCreate()\n",
    ")\n"
   ]
  },
  {
   "cell_type": "markdown",
   "metadata": {
    "application/vnd.databricks.v1+cell": {
     "cellMetadata": {},
     "inputWidgets": {},
     "nuid": "792ba6a2-2211-4f6d-b794-bc988cabfcc7",
     "showTitle": false,
     "title": ""
    }
   },
   "source": [
    "### 1. Dataframe and partitions"
   ]
  },
  {
   "cell_type": "code",
   "execution_count": null,
   "metadata": {
    "application/vnd.databricks.v1+cell": {
     "cellMetadata": {},
     "inputWidgets": {},
     "nuid": "286589f5-9eb7-43cf-b410-c0dfbad5dd97",
     "showTitle": false,
     "title": ""
    }
   },
   "outputs": [
    {
     "name": "stdout",
     "output_type": "stream",
     "text": [
      "+---+\n",
      "| id|\n",
      "+---+\n",
      "|  0|\n",
      "|  1|\n",
      "|  2|\n",
      "|  3|\n",
      "|  4|\n",
      "+---+\n",
      "only showing top 5 rows\n",
      "\n"
     ]
    },
    {
     "data": {
      "text/html": [
       "<style scoped>\n",
       "  .table-result-container {\n",
       "    max-height: 300px;\n",
       "    overflow: auto;\n",
       "  }\n",
       "  table, th, td {\n",
       "    border: 1px solid black;\n",
       "    border-collapse: collapse;\n",
       "  }\n",
       "  th, td {\n",
       "    padding: 5px;\n",
       "  }\n",
       "  th {\n",
       "    text-align: left;\n",
       "  }\n",
       "</style><div class='table-result-container'><table class='table-result'><thead style='background-color: white'><tr><th>id</th></tr></thead><tbody><tr><td>0</td></tr><tr><td>1</td></tr><tr><td>2</td></tr><tr><td>3</td></tr><tr><td>4</td></tr><tr><td>5</td></tr><tr><td>6</td></tr><tr><td>7</td></tr><tr><td>8</td></tr><tr><td>9</td></tr><tr><td>10</td></tr><tr><td>11</td></tr><tr><td>12</td></tr><tr><td>13</td></tr><tr><td>14</td></tr><tr><td>15</td></tr><tr><td>16</td></tr><tr><td>17</td></tr><tr><td>18</td></tr><tr><td>19</td></tr><tr><td>20</td></tr><tr><td>21</td></tr><tr><td>22</td></tr><tr><td>23</td></tr><tr><td>24</td></tr><tr><td>25</td></tr><tr><td>26</td></tr><tr><td>27</td></tr><tr><td>28</td></tr><tr><td>29</td></tr><tr><td>30</td></tr><tr><td>31</td></tr><tr><td>32</td></tr><tr><td>33</td></tr><tr><td>34</td></tr><tr><td>35</td></tr><tr><td>36</td></tr><tr><td>37</td></tr><tr><td>38</td></tr><tr><td>39</td></tr><tr><td>40</td></tr><tr><td>41</td></tr><tr><td>42</td></tr><tr><td>43</td></tr><tr><td>44</td></tr><tr><td>45</td></tr><tr><td>46</td></tr><tr><td>47</td></tr><tr><td>48</td></tr><tr><td>49</td></tr><tr><td>50</td></tr><tr><td>51</td></tr><tr><td>52</td></tr><tr><td>53</td></tr><tr><td>54</td></tr><tr><td>55</td></tr><tr><td>56</td></tr><tr><td>57</td></tr><tr><td>58</td></tr><tr><td>59</td></tr><tr><td>60</td></tr><tr><td>61</td></tr><tr><td>62</td></tr><tr><td>63</td></tr><tr><td>64</td></tr><tr><td>65</td></tr><tr><td>66</td></tr><tr><td>67</td></tr><tr><td>68</td></tr><tr><td>69</td></tr><tr><td>70</td></tr><tr><td>71</td></tr><tr><td>72</td></tr><tr><td>73</td></tr><tr><td>74</td></tr><tr><td>75</td></tr><tr><td>76</td></tr><tr><td>77</td></tr><tr><td>78</td></tr><tr><td>79</td></tr><tr><td>80</td></tr><tr><td>81</td></tr><tr><td>82</td></tr><tr><td>83</td></tr><tr><td>84</td></tr><tr><td>85</td></tr><tr><td>86</td></tr><tr><td>87</td></tr><tr><td>88</td></tr><tr><td>89</td></tr><tr><td>90</td></tr><tr><td>91</td></tr><tr><td>92</td></tr><tr><td>93</td></tr><tr><td>94</td></tr><tr><td>95</td></tr><tr><td>96</td></tr><tr><td>97</td></tr><tr><td>98</td></tr><tr><td>99</td></tr><tr><td>100</td></tr><tr><td>101</td></tr><tr><td>102</td></tr><tr><td>103</td></tr><tr><td>104</td></tr><tr><td>105</td></tr><tr><td>106</td></tr><tr><td>107</td></tr><tr><td>108</td></tr><tr><td>109</td></tr><tr><td>110</td></tr><tr><td>111</td></tr><tr><td>112</td></tr><tr><td>113</td></tr><tr><td>114</td></tr><tr><td>115</td></tr><tr><td>116</td></tr><tr><td>117</td></tr><tr><td>118</td></tr><tr><td>119</td></tr><tr><td>120</td></tr><tr><td>121</td></tr><tr><td>122</td></tr><tr><td>123</td></tr><tr><td>124</td></tr><tr><td>125</td></tr><tr><td>126</td></tr><tr><td>127</td></tr><tr><td>128</td></tr><tr><td>129</td></tr><tr><td>130</td></tr><tr><td>131</td></tr><tr><td>132</td></tr><tr><td>133</td></tr><tr><td>134</td></tr><tr><td>135</td></tr><tr><td>136</td></tr><tr><td>137</td></tr><tr><td>138</td></tr><tr><td>139</td></tr><tr><td>140</td></tr><tr><td>141</td></tr><tr><td>142</td></tr><tr><td>143</td></tr><tr><td>144</td></tr><tr><td>145</td></tr><tr><td>146</td></tr><tr><td>147</td></tr><tr><td>148</td></tr><tr><td>149</td></tr><tr><td>150</td></tr><tr><td>151</td></tr><tr><td>152</td></tr><tr><td>153</td></tr><tr><td>154</td></tr><tr><td>155</td></tr><tr><td>156</td></tr><tr><td>157</td></tr><tr><td>158</td></tr><tr><td>159</td></tr><tr><td>160</td></tr><tr><td>161</td></tr><tr><td>162</td></tr><tr><td>163</td></tr><tr><td>164</td></tr><tr><td>165</td></tr><tr><td>166</td></tr><tr><td>167</td></tr><tr><td>168</td></tr><tr><td>169</td></tr><tr><td>170</td></tr><tr><td>171</td></tr><tr><td>172</td></tr><tr><td>173</td></tr><tr><td>174</td></tr><tr><td>175</td></tr><tr><td>176</td></tr><tr><td>177</td></tr><tr><td>178</td></tr><tr><td>179</td></tr><tr><td>180</td></tr><tr><td>181</td></tr><tr><td>182</td></tr><tr><td>183</td></tr><tr><td>184</td></tr><tr><td>185</td></tr><tr><td>186</td></tr><tr><td>187</td></tr><tr><td>188</td></tr><tr><td>189</td></tr><tr><td>190</td></tr><tr><td>191</td></tr><tr><td>192</td></tr><tr><td>193</td></tr><tr><td>194</td></tr><tr><td>195</td></tr><tr><td>196</td></tr><tr><td>197</td></tr><tr><td>198</td></tr><tr><td>199</td></tr><tr><td>200</td></tr><tr><td>201</td></tr><tr><td>202</td></tr><tr><td>203</td></tr><tr><td>204</td></tr><tr><td>205</td></tr><tr><td>206</td></tr><tr><td>207</td></tr><tr><td>208</td></tr><tr><td>209</td></tr><tr><td>210</td></tr><tr><td>211</td></tr><tr><td>212</td></tr><tr><td>213</td></tr><tr><td>214</td></tr><tr><td>215</td></tr><tr><td>216</td></tr><tr><td>217</td></tr><tr><td>218</td></tr><tr><td>219</td></tr><tr><td>220</td></tr><tr><td>221</td></tr><tr><td>222</td></tr><tr><td>223</td></tr><tr><td>224</td></tr><tr><td>225</td></tr><tr><td>226</td></tr><tr><td>227</td></tr><tr><td>228</td></tr><tr><td>229</td></tr><tr><td>230</td></tr><tr><td>231</td></tr><tr><td>232</td></tr><tr><td>233</td></tr><tr><td>234</td></tr><tr><td>235</td></tr><tr><td>236</td></tr><tr><td>237</td></tr><tr><td>238</td></tr><tr><td>239</td></tr><tr><td>240</td></tr><tr><td>241</td></tr><tr><td>242</td></tr><tr><td>243</td></tr><tr><td>244</td></tr><tr><td>245</td></tr><tr><td>246</td></tr><tr><td>247</td></tr><tr><td>248</td></tr><tr><td>249</td></tr><tr><td>250</td></tr><tr><td>251</td></tr><tr><td>252</td></tr><tr><td>253</td></tr><tr><td>254</td></tr><tr><td>255</td></tr><tr><td>256</td></tr><tr><td>257</td></tr><tr><td>258</td></tr><tr><td>259</td></tr><tr><td>260</td></tr><tr><td>261</td></tr><tr><td>262</td></tr><tr><td>263</td></tr><tr><td>264</td></tr><tr><td>265</td></tr><tr><td>266</td></tr><tr><td>267</td></tr><tr><td>268</td></tr><tr><td>269</td></tr><tr><td>270</td></tr><tr><td>271</td></tr><tr><td>272</td></tr><tr><td>273</td></tr><tr><td>274</td></tr><tr><td>275</td></tr><tr><td>276</td></tr><tr><td>277</td></tr><tr><td>278</td></tr><tr><td>279</td></tr><tr><td>280</td></tr><tr><td>281</td></tr><tr><td>282</td></tr><tr><td>283</td></tr><tr><td>284</td></tr><tr><td>285</td></tr><tr><td>286</td></tr><tr><td>287</td></tr><tr><td>288</td></tr><tr><td>289</td></tr><tr><td>290</td></tr><tr><td>291</td></tr><tr><td>292</td></tr><tr><td>293</td></tr><tr><td>294</td></tr><tr><td>295</td></tr><tr><td>296</td></tr><tr><td>297</td></tr><tr><td>298</td></tr><tr><td>299</td></tr><tr><td>300</td></tr><tr><td>301</td></tr><tr><td>302</td></tr><tr><td>303</td></tr><tr><td>304</td></tr><tr><td>305</td></tr><tr><td>306</td></tr><tr><td>307</td></tr><tr><td>308</td></tr><tr><td>309</td></tr><tr><td>310</td></tr><tr><td>311</td></tr><tr><td>312</td></tr><tr><td>313</td></tr><tr><td>314</td></tr><tr><td>315</td></tr><tr><td>316</td></tr><tr><td>317</td></tr><tr><td>318</td></tr><tr><td>319</td></tr><tr><td>320</td></tr><tr><td>321</td></tr><tr><td>322</td></tr><tr><td>323</td></tr><tr><td>324</td></tr><tr><td>325</td></tr><tr><td>326</td></tr><tr><td>327</td></tr><tr><td>328</td></tr><tr><td>329</td></tr><tr><td>330</td></tr><tr><td>331</td></tr><tr><td>332</td></tr><tr><td>333</td></tr><tr><td>334</td></tr><tr><td>335</td></tr><tr><td>336</td></tr><tr><td>337</td></tr><tr><td>338</td></tr><tr><td>339</td></tr><tr><td>340</td></tr><tr><td>341</td></tr><tr><td>342</td></tr><tr><td>343</td></tr><tr><td>344</td></tr><tr><td>345</td></tr><tr><td>346</td></tr><tr><td>347</td></tr><tr><td>348</td></tr><tr><td>349</td></tr><tr><td>350</td></tr><tr><td>351</td></tr><tr><td>352</td></tr><tr><td>353</td></tr><tr><td>354</td></tr><tr><td>355</td></tr><tr><td>356</td></tr><tr><td>357</td></tr><tr><td>358</td></tr><tr><td>359</td></tr><tr><td>360</td></tr><tr><td>361</td></tr><tr><td>362</td></tr><tr><td>363</td></tr><tr><td>364</td></tr><tr><td>365</td></tr><tr><td>366</td></tr><tr><td>367</td></tr><tr><td>368</td></tr><tr><td>369</td></tr><tr><td>370</td></tr><tr><td>371</td></tr><tr><td>372</td></tr><tr><td>373</td></tr><tr><td>374</td></tr><tr><td>375</td></tr><tr><td>376</td></tr><tr><td>377</td></tr><tr><td>378</td></tr><tr><td>379</td></tr><tr><td>380</td></tr><tr><td>381</td></tr><tr><td>382</td></tr><tr><td>383</td></tr><tr><td>384</td></tr><tr><td>385</td></tr><tr><td>386</td></tr><tr><td>387</td></tr><tr><td>388</td></tr><tr><td>389</td></tr><tr><td>390</td></tr><tr><td>391</td></tr><tr><td>392</td></tr><tr><td>393</td></tr><tr><td>394</td></tr><tr><td>395</td></tr><tr><td>396</td></tr><tr><td>397</td></tr><tr><td>398</td></tr><tr><td>399</td></tr><tr><td>400</td></tr><tr><td>401</td></tr><tr><td>402</td></tr><tr><td>403</td></tr><tr><td>404</td></tr><tr><td>405</td></tr><tr><td>406</td></tr><tr><td>407</td></tr><tr><td>408</td></tr><tr><td>409</td></tr><tr><td>410</td></tr><tr><td>411</td></tr><tr><td>412</td></tr><tr><td>413</td></tr><tr><td>414</td></tr><tr><td>415</td></tr><tr><td>416</td></tr><tr><td>417</td></tr><tr><td>418</td></tr><tr><td>419</td></tr><tr><td>420</td></tr><tr><td>421</td></tr><tr><td>422</td></tr><tr><td>423</td></tr><tr><td>424</td></tr><tr><td>425</td></tr><tr><td>426</td></tr><tr><td>427</td></tr><tr><td>428</td></tr><tr><td>429</td></tr><tr><td>430</td></tr><tr><td>431</td></tr><tr><td>432</td></tr><tr><td>433</td></tr><tr><td>434</td></tr><tr><td>435</td></tr><tr><td>436</td></tr><tr><td>437</td></tr><tr><td>438</td></tr><tr><td>439</td></tr><tr><td>440</td></tr><tr><td>441</td></tr><tr><td>442</td></tr><tr><td>443</td></tr><tr><td>444</td></tr><tr><td>445</td></tr><tr><td>446</td></tr><tr><td>447</td></tr><tr><td>448</td></tr><tr><td>449</td></tr><tr><td>450</td></tr><tr><td>451</td></tr><tr><td>452</td></tr><tr><td>453</td></tr><tr><td>454</td></tr><tr><td>455</td></tr><tr><td>456</td></tr><tr><td>457</td></tr><tr><td>458</td></tr><tr><td>459</td></tr><tr><td>460</td></tr><tr><td>461</td></tr><tr><td>462</td></tr><tr><td>463</td></tr><tr><td>464</td></tr><tr><td>465</td></tr><tr><td>466</td></tr><tr><td>467</td></tr><tr><td>468</td></tr><tr><td>469</td></tr><tr><td>470</td></tr><tr><td>471</td></tr><tr><td>472</td></tr><tr><td>473</td></tr><tr><td>474</td></tr><tr><td>475</td></tr><tr><td>476</td></tr><tr><td>477</td></tr><tr><td>478</td></tr><tr><td>479</td></tr><tr><td>480</td></tr><tr><td>481</td></tr><tr><td>482</td></tr><tr><td>483</td></tr><tr><td>484</td></tr><tr><td>485</td></tr><tr><td>486</td></tr><tr><td>487</td></tr><tr><td>488</td></tr><tr><td>489</td></tr><tr><td>490</td></tr><tr><td>491</td></tr><tr><td>492</td></tr><tr><td>493</td></tr><tr><td>494</td></tr><tr><td>495</td></tr><tr><td>496</td></tr><tr><td>497</td></tr><tr><td>498</td></tr><tr><td>499</td></tr><tr><td>500</td></tr><tr><td>501</td></tr><tr><td>502</td></tr><tr><td>503</td></tr><tr><td>504</td></tr><tr><td>505</td></tr><tr><td>506</td></tr><tr><td>507</td></tr><tr><td>508</td></tr><tr><td>509</td></tr><tr><td>510</td></tr><tr><td>511</td></tr><tr><td>512</td></tr><tr><td>513</td></tr><tr><td>514</td></tr><tr><td>515</td></tr><tr><td>516</td></tr><tr><td>517</td></tr><tr><td>518</td></tr><tr><td>519</td></tr><tr><td>520</td></tr><tr><td>521</td></tr><tr><td>522</td></tr><tr><td>523</td></tr><tr><td>524</td></tr><tr><td>525</td></tr><tr><td>526</td></tr><tr><td>527</td></tr><tr><td>528</td></tr><tr><td>529</td></tr><tr><td>530</td></tr><tr><td>531</td></tr><tr><td>532</td></tr><tr><td>533</td></tr><tr><td>534</td></tr><tr><td>535</td></tr><tr><td>536</td></tr><tr><td>537</td></tr><tr><td>538</td></tr><tr><td>539</td></tr><tr><td>540</td></tr><tr><td>541</td></tr><tr><td>542</td></tr><tr><td>543</td></tr><tr><td>544</td></tr><tr><td>545</td></tr><tr><td>546</td></tr><tr><td>547</td></tr><tr><td>548</td></tr><tr><td>549</td></tr><tr><td>550</td></tr><tr><td>551</td></tr><tr><td>552</td></tr><tr><td>553</td></tr><tr><td>554</td></tr><tr><td>555</td></tr><tr><td>556</td></tr><tr><td>557</td></tr><tr><td>558</td></tr><tr><td>559</td></tr><tr><td>560</td></tr><tr><td>561</td></tr><tr><td>562</td></tr><tr><td>563</td></tr><tr><td>564</td></tr><tr><td>565</td></tr><tr><td>566</td></tr><tr><td>567</td></tr><tr><td>568</td></tr><tr><td>569</td></tr><tr><td>570</td></tr><tr><td>571</td></tr><tr><td>572</td></tr><tr><td>573</td></tr><tr><td>574</td></tr><tr><td>575</td></tr><tr><td>576</td></tr><tr><td>577</td></tr><tr><td>578</td></tr><tr><td>579</td></tr><tr><td>580</td></tr><tr><td>581</td></tr><tr><td>582</td></tr><tr><td>583</td></tr><tr><td>584</td></tr><tr><td>585</td></tr><tr><td>586</td></tr><tr><td>587</td></tr><tr><td>588</td></tr><tr><td>589</td></tr><tr><td>590</td></tr><tr><td>591</td></tr><tr><td>592</td></tr><tr><td>593</td></tr><tr><td>594</td></tr><tr><td>595</td></tr><tr><td>596</td></tr><tr><td>597</td></tr><tr><td>598</td></tr><tr><td>599</td></tr><tr><td>600</td></tr><tr><td>601</td></tr><tr><td>602</td></tr><tr><td>603</td></tr><tr><td>604</td></tr><tr><td>605</td></tr><tr><td>606</td></tr><tr><td>607</td></tr><tr><td>608</td></tr><tr><td>609</td></tr><tr><td>610</td></tr><tr><td>611</td></tr><tr><td>612</td></tr><tr><td>613</td></tr><tr><td>614</td></tr><tr><td>615</td></tr><tr><td>616</td></tr><tr><td>617</td></tr><tr><td>618</td></tr><tr><td>619</td></tr><tr><td>620</td></tr><tr><td>621</td></tr><tr><td>622</td></tr><tr><td>623</td></tr><tr><td>624</td></tr><tr><td>625</td></tr><tr><td>626</td></tr><tr><td>627</td></tr><tr><td>628</td></tr><tr><td>629</td></tr><tr><td>630</td></tr><tr><td>631</td></tr><tr><td>632</td></tr><tr><td>633</td></tr><tr><td>634</td></tr><tr><td>635</td></tr><tr><td>636</td></tr><tr><td>637</td></tr><tr><td>638</td></tr><tr><td>639</td></tr><tr><td>640</td></tr><tr><td>641</td></tr><tr><td>642</td></tr><tr><td>643</td></tr><tr><td>644</td></tr><tr><td>645</td></tr><tr><td>646</td></tr><tr><td>647</td></tr><tr><td>648</td></tr><tr><td>649</td></tr><tr><td>650</td></tr><tr><td>651</td></tr><tr><td>652</td></tr><tr><td>653</td></tr><tr><td>654</td></tr><tr><td>655</td></tr><tr><td>656</td></tr><tr><td>657</td></tr><tr><td>658</td></tr><tr><td>659</td></tr><tr><td>660</td></tr><tr><td>661</td></tr><tr><td>662</td></tr><tr><td>663</td></tr><tr><td>664</td></tr><tr><td>665</td></tr><tr><td>666</td></tr><tr><td>667</td></tr><tr><td>668</td></tr><tr><td>669</td></tr><tr><td>670</td></tr><tr><td>671</td></tr><tr><td>672</td></tr><tr><td>673</td></tr><tr><td>674</td></tr><tr><td>675</td></tr><tr><td>676</td></tr><tr><td>677</td></tr><tr><td>678</td></tr><tr><td>679</td></tr><tr><td>680</td></tr><tr><td>681</td></tr><tr><td>682</td></tr><tr><td>683</td></tr><tr><td>684</td></tr><tr><td>685</td></tr><tr><td>686</td></tr><tr><td>687</td></tr><tr><td>688</td></tr><tr><td>689</td></tr><tr><td>690</td></tr><tr><td>691</td></tr><tr><td>692</td></tr><tr><td>693</td></tr><tr><td>694</td></tr><tr><td>695</td></tr><tr><td>696</td></tr><tr><td>697</td></tr><tr><td>698</td></tr><tr><td>699</td></tr><tr><td>700</td></tr><tr><td>701</td></tr><tr><td>702</td></tr><tr><td>703</td></tr><tr><td>704</td></tr><tr><td>705</td></tr><tr><td>706</td></tr><tr><td>707</td></tr><tr><td>708</td></tr><tr><td>709</td></tr><tr><td>710</td></tr><tr><td>711</td></tr><tr><td>712</td></tr><tr><td>713</td></tr><tr><td>714</td></tr><tr><td>715</td></tr><tr><td>716</td></tr><tr><td>717</td></tr><tr><td>718</td></tr><tr><td>719</td></tr><tr><td>720</td></tr><tr><td>721</td></tr><tr><td>722</td></tr><tr><td>723</td></tr><tr><td>724</td></tr><tr><td>725</td></tr><tr><td>726</td></tr><tr><td>727</td></tr><tr><td>728</td></tr><tr><td>729</td></tr><tr><td>730</td></tr><tr><td>731</td></tr><tr><td>732</td></tr><tr><td>733</td></tr><tr><td>734</td></tr><tr><td>735</td></tr><tr><td>736</td></tr><tr><td>737</td></tr><tr><td>738</td></tr><tr><td>739</td></tr><tr><td>740</td></tr><tr><td>741</td></tr><tr><td>742</td></tr><tr><td>743</td></tr><tr><td>744</td></tr><tr><td>745</td></tr><tr><td>746</td></tr><tr><td>747</td></tr><tr><td>748</td></tr><tr><td>749</td></tr><tr><td>750</td></tr><tr><td>751</td></tr><tr><td>752</td></tr><tr><td>753</td></tr><tr><td>754</td></tr><tr><td>755</td></tr><tr><td>756</td></tr><tr><td>757</td></tr><tr><td>758</td></tr><tr><td>759</td></tr><tr><td>760</td></tr><tr><td>761</td></tr><tr><td>762</td></tr><tr><td>763</td></tr><tr><td>764</td></tr><tr><td>765</td></tr><tr><td>766</td></tr><tr><td>767</td></tr><tr><td>768</td></tr><tr><td>769</td></tr><tr><td>770</td></tr><tr><td>771</td></tr><tr><td>772</td></tr><tr><td>773</td></tr><tr><td>774</td></tr><tr><td>775</td></tr><tr><td>776</td></tr><tr><td>777</td></tr><tr><td>778</td></tr><tr><td>779</td></tr><tr><td>780</td></tr><tr><td>781</td></tr><tr><td>782</td></tr><tr><td>783</td></tr><tr><td>784</td></tr><tr><td>785</td></tr><tr><td>786</td></tr><tr><td>787</td></tr><tr><td>788</td></tr><tr><td>789</td></tr><tr><td>790</td></tr><tr><td>791</td></tr><tr><td>792</td></tr><tr><td>793</td></tr><tr><td>794</td></tr><tr><td>795</td></tr><tr><td>796</td></tr><tr><td>797</td></tr><tr><td>798</td></tr><tr><td>799</td></tr><tr><td>800</td></tr><tr><td>801</td></tr><tr><td>802</td></tr><tr><td>803</td></tr><tr><td>804</td></tr><tr><td>805</td></tr><tr><td>806</td></tr><tr><td>807</td></tr><tr><td>808</td></tr><tr><td>809</td></tr><tr><td>810</td></tr><tr><td>811</td></tr><tr><td>812</td></tr><tr><td>813</td></tr><tr><td>814</td></tr><tr><td>815</td></tr><tr><td>816</td></tr><tr><td>817</td></tr><tr><td>818</td></tr><tr><td>819</td></tr><tr><td>820</td></tr><tr><td>821</td></tr><tr><td>822</td></tr><tr><td>823</td></tr><tr><td>824</td></tr><tr><td>825</td></tr><tr><td>826</td></tr><tr><td>827</td></tr><tr><td>828</td></tr><tr><td>829</td></tr><tr><td>830</td></tr><tr><td>831</td></tr><tr><td>832</td></tr><tr><td>833</td></tr><tr><td>834</td></tr><tr><td>835</td></tr><tr><td>836</td></tr><tr><td>837</td></tr><tr><td>838</td></tr><tr><td>839</td></tr><tr><td>840</td></tr><tr><td>841</td></tr><tr><td>842</td></tr><tr><td>843</td></tr><tr><td>844</td></tr><tr><td>845</td></tr><tr><td>846</td></tr><tr><td>847</td></tr><tr><td>848</td></tr><tr><td>849</td></tr><tr><td>850</td></tr><tr><td>851</td></tr><tr><td>852</td></tr><tr><td>853</td></tr><tr><td>854</td></tr><tr><td>855</td></tr><tr><td>856</td></tr><tr><td>857</td></tr><tr><td>858</td></tr><tr><td>859</td></tr><tr><td>860</td></tr><tr><td>861</td></tr><tr><td>862</td></tr><tr><td>863</td></tr><tr><td>864</td></tr><tr><td>865</td></tr><tr><td>866</td></tr><tr><td>867</td></tr><tr><td>868</td></tr><tr><td>869</td></tr><tr><td>870</td></tr><tr><td>871</td></tr><tr><td>872</td></tr><tr><td>873</td></tr><tr><td>874</td></tr><tr><td>875</td></tr><tr><td>876</td></tr><tr><td>877</td></tr><tr><td>878</td></tr><tr><td>879</td></tr><tr><td>880</td></tr><tr><td>881</td></tr><tr><td>882</td></tr><tr><td>883</td></tr><tr><td>884</td></tr><tr><td>885</td></tr><tr><td>886</td></tr><tr><td>887</td></tr><tr><td>888</td></tr><tr><td>889</td></tr><tr><td>890</td></tr><tr><td>891</td></tr><tr><td>892</td></tr><tr><td>893</td></tr><tr><td>894</td></tr><tr><td>895</td></tr><tr><td>896</td></tr><tr><td>897</td></tr><tr><td>898</td></tr><tr><td>899</td></tr><tr><td>900</td></tr><tr><td>901</td></tr><tr><td>902</td></tr><tr><td>903</td></tr><tr><td>904</td></tr><tr><td>905</td></tr><tr><td>906</td></tr><tr><td>907</td></tr><tr><td>908</td></tr><tr><td>909</td></tr><tr><td>910</td></tr><tr><td>911</td></tr><tr><td>912</td></tr><tr><td>913</td></tr><tr><td>914</td></tr><tr><td>915</td></tr><tr><td>916</td></tr><tr><td>917</td></tr><tr><td>918</td></tr><tr><td>919</td></tr><tr><td>920</td></tr><tr><td>921</td></tr><tr><td>922</td></tr><tr><td>923</td></tr><tr><td>924</td></tr><tr><td>925</td></tr><tr><td>926</td></tr><tr><td>927</td></tr><tr><td>928</td></tr><tr><td>929</td></tr><tr><td>930</td></tr><tr><td>931</td></tr><tr><td>932</td></tr><tr><td>933</td></tr><tr><td>934</td></tr><tr><td>935</td></tr><tr><td>936</td></tr><tr><td>937</td></tr><tr><td>938</td></tr><tr><td>939</td></tr><tr><td>940</td></tr><tr><td>941</td></tr><tr><td>942</td></tr><tr><td>943</td></tr><tr><td>944</td></tr><tr><td>945</td></tr><tr><td>946</td></tr><tr><td>947</td></tr><tr><td>948</td></tr><tr><td>949</td></tr><tr><td>950</td></tr><tr><td>951</td></tr><tr><td>952</td></tr><tr><td>953</td></tr><tr><td>954</td></tr><tr><td>955</td></tr><tr><td>956</td></tr><tr><td>957</td></tr><tr><td>958</td></tr><tr><td>959</td></tr><tr><td>960</td></tr><tr><td>961</td></tr><tr><td>962</td></tr><tr><td>963</td></tr><tr><td>964</td></tr><tr><td>965</td></tr><tr><td>966</td></tr><tr><td>967</td></tr><tr><td>968</td></tr><tr><td>969</td></tr><tr><td>970</td></tr><tr><td>971</td></tr><tr><td>972</td></tr><tr><td>973</td></tr><tr><td>974</td></tr><tr><td>975</td></tr><tr><td>976</td></tr><tr><td>977</td></tr><tr><td>978</td></tr><tr><td>979</td></tr><tr><td>980</td></tr><tr><td>981</td></tr><tr><td>982</td></tr><tr><td>983</td></tr><tr><td>984</td></tr><tr><td>985</td></tr><tr><td>986</td></tr><tr><td>987</td></tr><tr><td>988</td></tr><tr><td>989</td></tr><tr><td>990</td></tr><tr><td>991</td></tr><tr><td>992</td></tr><tr><td>993</td></tr><tr><td>994</td></tr><tr><td>995</td></tr><tr><td>996</td></tr><tr><td>997</td></tr><tr><td>998</td></tr><tr><td>999</td></tr></tbody></table></div>"
      ]
     },
     "metadata": {
      "application/vnd.databricks.v1+output": {
       "addedWidgets": {},
       "aggData": [],
       "aggError": "",
       "aggOverflow": false,
       "aggSchema": [],
       "aggSeriesLimitReached": false,
       "aggType": "",
       "arguments": {},
       "columnCustomDisplayInfos": {},
       "data": [
        [
         0
        ],
        [
         1
        ],
        [
         2
        ],
        [
         3
        ],
        [
         4
        ],
        [
         5
        ],
        [
         6
        ],
        [
         7
        ],
        [
         8
        ],
        [
         9
        ],
        [
         10
        ],
        [
         11
        ],
        [
         12
        ],
        [
         13
        ],
        [
         14
        ],
        [
         15
        ],
        [
         16
        ],
        [
         17
        ],
        [
         18
        ],
        [
         19
        ],
        [
         20
        ],
        [
         21
        ],
        [
         22
        ],
        [
         23
        ],
        [
         24
        ],
        [
         25
        ],
        [
         26
        ],
        [
         27
        ],
        [
         28
        ],
        [
         29
        ],
        [
         30
        ],
        [
         31
        ],
        [
         32
        ],
        [
         33
        ],
        [
         34
        ],
        [
         35
        ],
        [
         36
        ],
        [
         37
        ],
        [
         38
        ],
        [
         39
        ],
        [
         40
        ],
        [
         41
        ],
        [
         42
        ],
        [
         43
        ],
        [
         44
        ],
        [
         45
        ],
        [
         46
        ],
        [
         47
        ],
        [
         48
        ],
        [
         49
        ],
        [
         50
        ],
        [
         51
        ],
        [
         52
        ],
        [
         53
        ],
        [
         54
        ],
        [
         55
        ],
        [
         56
        ],
        [
         57
        ],
        [
         58
        ],
        [
         59
        ],
        [
         60
        ],
        [
         61
        ],
        [
         62
        ],
        [
         63
        ],
        [
         64
        ],
        [
         65
        ],
        [
         66
        ],
        [
         67
        ],
        [
         68
        ],
        [
         69
        ],
        [
         70
        ],
        [
         71
        ],
        [
         72
        ],
        [
         73
        ],
        [
         74
        ],
        [
         75
        ],
        [
         76
        ],
        [
         77
        ],
        [
         78
        ],
        [
         79
        ],
        [
         80
        ],
        [
         81
        ],
        [
         82
        ],
        [
         83
        ],
        [
         84
        ],
        [
         85
        ],
        [
         86
        ],
        [
         87
        ],
        [
         88
        ],
        [
         89
        ],
        [
         90
        ],
        [
         91
        ],
        [
         92
        ],
        [
         93
        ],
        [
         94
        ],
        [
         95
        ],
        [
         96
        ],
        [
         97
        ],
        [
         98
        ],
        [
         99
        ],
        [
         100
        ],
        [
         101
        ],
        [
         102
        ],
        [
         103
        ],
        [
         104
        ],
        [
         105
        ],
        [
         106
        ],
        [
         107
        ],
        [
         108
        ],
        [
         109
        ],
        [
         110
        ],
        [
         111
        ],
        [
         112
        ],
        [
         113
        ],
        [
         114
        ],
        [
         115
        ],
        [
         116
        ],
        [
         117
        ],
        [
         118
        ],
        [
         119
        ],
        [
         120
        ],
        [
         121
        ],
        [
         122
        ],
        [
         123
        ],
        [
         124
        ],
        [
         125
        ],
        [
         126
        ],
        [
         127
        ],
        [
         128
        ],
        [
         129
        ],
        [
         130
        ],
        [
         131
        ],
        [
         132
        ],
        [
         133
        ],
        [
         134
        ],
        [
         135
        ],
        [
         136
        ],
        [
         137
        ],
        [
         138
        ],
        [
         139
        ],
        [
         140
        ],
        [
         141
        ],
        [
         142
        ],
        [
         143
        ],
        [
         144
        ],
        [
         145
        ],
        [
         146
        ],
        [
         147
        ],
        [
         148
        ],
        [
         149
        ],
        [
         150
        ],
        [
         151
        ],
        [
         152
        ],
        [
         153
        ],
        [
         154
        ],
        [
         155
        ],
        [
         156
        ],
        [
         157
        ],
        [
         158
        ],
        [
         159
        ],
        [
         160
        ],
        [
         161
        ],
        [
         162
        ],
        [
         163
        ],
        [
         164
        ],
        [
         165
        ],
        [
         166
        ],
        [
         167
        ],
        [
         168
        ],
        [
         169
        ],
        [
         170
        ],
        [
         171
        ],
        [
         172
        ],
        [
         173
        ],
        [
         174
        ],
        [
         175
        ],
        [
         176
        ],
        [
         177
        ],
        [
         178
        ],
        [
         179
        ],
        [
         180
        ],
        [
         181
        ],
        [
         182
        ],
        [
         183
        ],
        [
         184
        ],
        [
         185
        ],
        [
         186
        ],
        [
         187
        ],
        [
         188
        ],
        [
         189
        ],
        [
         190
        ],
        [
         191
        ],
        [
         192
        ],
        [
         193
        ],
        [
         194
        ],
        [
         195
        ],
        [
         196
        ],
        [
         197
        ],
        [
         198
        ],
        [
         199
        ],
        [
         200
        ],
        [
         201
        ],
        [
         202
        ],
        [
         203
        ],
        [
         204
        ],
        [
         205
        ],
        [
         206
        ],
        [
         207
        ],
        [
         208
        ],
        [
         209
        ],
        [
         210
        ],
        [
         211
        ],
        [
         212
        ],
        [
         213
        ],
        [
         214
        ],
        [
         215
        ],
        [
         216
        ],
        [
         217
        ],
        [
         218
        ],
        [
         219
        ],
        [
         220
        ],
        [
         221
        ],
        [
         222
        ],
        [
         223
        ],
        [
         224
        ],
        [
         225
        ],
        [
         226
        ],
        [
         227
        ],
        [
         228
        ],
        [
         229
        ],
        [
         230
        ],
        [
         231
        ],
        [
         232
        ],
        [
         233
        ],
        [
         234
        ],
        [
         235
        ],
        [
         236
        ],
        [
         237
        ],
        [
         238
        ],
        [
         239
        ],
        [
         240
        ],
        [
         241
        ],
        [
         242
        ],
        [
         243
        ],
        [
         244
        ],
        [
         245
        ],
        [
         246
        ],
        [
         247
        ],
        [
         248
        ],
        [
         249
        ],
        [
         250
        ],
        [
         251
        ],
        [
         252
        ],
        [
         253
        ],
        [
         254
        ],
        [
         255
        ],
        [
         256
        ],
        [
         257
        ],
        [
         258
        ],
        [
         259
        ],
        [
         260
        ],
        [
         261
        ],
        [
         262
        ],
        [
         263
        ],
        [
         264
        ],
        [
         265
        ],
        [
         266
        ],
        [
         267
        ],
        [
         268
        ],
        [
         269
        ],
        [
         270
        ],
        [
         271
        ],
        [
         272
        ],
        [
         273
        ],
        [
         274
        ],
        [
         275
        ],
        [
         276
        ],
        [
         277
        ],
        [
         278
        ],
        [
         279
        ],
        [
         280
        ],
        [
         281
        ],
        [
         282
        ],
        [
         283
        ],
        [
         284
        ],
        [
         285
        ],
        [
         286
        ],
        [
         287
        ],
        [
         288
        ],
        [
         289
        ],
        [
         290
        ],
        [
         291
        ],
        [
         292
        ],
        [
         293
        ],
        [
         294
        ],
        [
         295
        ],
        [
         296
        ],
        [
         297
        ],
        [
         298
        ],
        [
         299
        ],
        [
         300
        ],
        [
         301
        ],
        [
         302
        ],
        [
         303
        ],
        [
         304
        ],
        [
         305
        ],
        [
         306
        ],
        [
         307
        ],
        [
         308
        ],
        [
         309
        ],
        [
         310
        ],
        [
         311
        ],
        [
         312
        ],
        [
         313
        ],
        [
         314
        ],
        [
         315
        ],
        [
         316
        ],
        [
         317
        ],
        [
         318
        ],
        [
         319
        ],
        [
         320
        ],
        [
         321
        ],
        [
         322
        ],
        [
         323
        ],
        [
         324
        ],
        [
         325
        ],
        [
         326
        ],
        [
         327
        ],
        [
         328
        ],
        [
         329
        ],
        [
         330
        ],
        [
         331
        ],
        [
         332
        ],
        [
         333
        ],
        [
         334
        ],
        [
         335
        ],
        [
         336
        ],
        [
         337
        ],
        [
         338
        ],
        [
         339
        ],
        [
         340
        ],
        [
         341
        ],
        [
         342
        ],
        [
         343
        ],
        [
         344
        ],
        [
         345
        ],
        [
         346
        ],
        [
         347
        ],
        [
         348
        ],
        [
         349
        ],
        [
         350
        ],
        [
         351
        ],
        [
         352
        ],
        [
         353
        ],
        [
         354
        ],
        [
         355
        ],
        [
         356
        ],
        [
         357
        ],
        [
         358
        ],
        [
         359
        ],
        [
         360
        ],
        [
         361
        ],
        [
         362
        ],
        [
         363
        ],
        [
         364
        ],
        [
         365
        ],
        [
         366
        ],
        [
         367
        ],
        [
         368
        ],
        [
         369
        ],
        [
         370
        ],
        [
         371
        ],
        [
         372
        ],
        [
         373
        ],
        [
         374
        ],
        [
         375
        ],
        [
         376
        ],
        [
         377
        ],
        [
         378
        ],
        [
         379
        ],
        [
         380
        ],
        [
         381
        ],
        [
         382
        ],
        [
         383
        ],
        [
         384
        ],
        [
         385
        ],
        [
         386
        ],
        [
         387
        ],
        [
         388
        ],
        [
         389
        ],
        [
         390
        ],
        [
         391
        ],
        [
         392
        ],
        [
         393
        ],
        [
         394
        ],
        [
         395
        ],
        [
         396
        ],
        [
         397
        ],
        [
         398
        ],
        [
         399
        ],
        [
         400
        ],
        [
         401
        ],
        [
         402
        ],
        [
         403
        ],
        [
         404
        ],
        [
         405
        ],
        [
         406
        ],
        [
         407
        ],
        [
         408
        ],
        [
         409
        ],
        [
         410
        ],
        [
         411
        ],
        [
         412
        ],
        [
         413
        ],
        [
         414
        ],
        [
         415
        ],
        [
         416
        ],
        [
         417
        ],
        [
         418
        ],
        [
         419
        ],
        [
         420
        ],
        [
         421
        ],
        [
         422
        ],
        [
         423
        ],
        [
         424
        ],
        [
         425
        ],
        [
         426
        ],
        [
         427
        ],
        [
         428
        ],
        [
         429
        ],
        [
         430
        ],
        [
         431
        ],
        [
         432
        ],
        [
         433
        ],
        [
         434
        ],
        [
         435
        ],
        [
         436
        ],
        [
         437
        ],
        [
         438
        ],
        [
         439
        ],
        [
         440
        ],
        [
         441
        ],
        [
         442
        ],
        [
         443
        ],
        [
         444
        ],
        [
         445
        ],
        [
         446
        ],
        [
         447
        ],
        [
         448
        ],
        [
         449
        ],
        [
         450
        ],
        [
         451
        ],
        [
         452
        ],
        [
         453
        ],
        [
         454
        ],
        [
         455
        ],
        [
         456
        ],
        [
         457
        ],
        [
         458
        ],
        [
         459
        ],
        [
         460
        ],
        [
         461
        ],
        [
         462
        ],
        [
         463
        ],
        [
         464
        ],
        [
         465
        ],
        [
         466
        ],
        [
         467
        ],
        [
         468
        ],
        [
         469
        ],
        [
         470
        ],
        [
         471
        ],
        [
         472
        ],
        [
         473
        ],
        [
         474
        ],
        [
         475
        ],
        [
         476
        ],
        [
         477
        ],
        [
         478
        ],
        [
         479
        ],
        [
         480
        ],
        [
         481
        ],
        [
         482
        ],
        [
         483
        ],
        [
         484
        ],
        [
         485
        ],
        [
         486
        ],
        [
         487
        ],
        [
         488
        ],
        [
         489
        ],
        [
         490
        ],
        [
         491
        ],
        [
         492
        ],
        [
         493
        ],
        [
         494
        ],
        [
         495
        ],
        [
         496
        ],
        [
         497
        ],
        [
         498
        ],
        [
         499
        ],
        [
         500
        ],
        [
         501
        ],
        [
         502
        ],
        [
         503
        ],
        [
         504
        ],
        [
         505
        ],
        [
         506
        ],
        [
         507
        ],
        [
         508
        ],
        [
         509
        ],
        [
         510
        ],
        [
         511
        ],
        [
         512
        ],
        [
         513
        ],
        [
         514
        ],
        [
         515
        ],
        [
         516
        ],
        [
         517
        ],
        [
         518
        ],
        [
         519
        ],
        [
         520
        ],
        [
         521
        ],
        [
         522
        ],
        [
         523
        ],
        [
         524
        ],
        [
         525
        ],
        [
         526
        ],
        [
         527
        ],
        [
         528
        ],
        [
         529
        ],
        [
         530
        ],
        [
         531
        ],
        [
         532
        ],
        [
         533
        ],
        [
         534
        ],
        [
         535
        ],
        [
         536
        ],
        [
         537
        ],
        [
         538
        ],
        [
         539
        ],
        [
         540
        ],
        [
         541
        ],
        [
         542
        ],
        [
         543
        ],
        [
         544
        ],
        [
         545
        ],
        [
         546
        ],
        [
         547
        ],
        [
         548
        ],
        [
         549
        ],
        [
         550
        ],
        [
         551
        ],
        [
         552
        ],
        [
         553
        ],
        [
         554
        ],
        [
         555
        ],
        [
         556
        ],
        [
         557
        ],
        [
         558
        ],
        [
         559
        ],
        [
         560
        ],
        [
         561
        ],
        [
         562
        ],
        [
         563
        ],
        [
         564
        ],
        [
         565
        ],
        [
         566
        ],
        [
         567
        ],
        [
         568
        ],
        [
         569
        ],
        [
         570
        ],
        [
         571
        ],
        [
         572
        ],
        [
         573
        ],
        [
         574
        ],
        [
         575
        ],
        [
         576
        ],
        [
         577
        ],
        [
         578
        ],
        [
         579
        ],
        [
         580
        ],
        [
         581
        ],
        [
         582
        ],
        [
         583
        ],
        [
         584
        ],
        [
         585
        ],
        [
         586
        ],
        [
         587
        ],
        [
         588
        ],
        [
         589
        ],
        [
         590
        ],
        [
         591
        ],
        [
         592
        ],
        [
         593
        ],
        [
         594
        ],
        [
         595
        ],
        [
         596
        ],
        [
         597
        ],
        [
         598
        ],
        [
         599
        ],
        [
         600
        ],
        [
         601
        ],
        [
         602
        ],
        [
         603
        ],
        [
         604
        ],
        [
         605
        ],
        [
         606
        ],
        [
         607
        ],
        [
         608
        ],
        [
         609
        ],
        [
         610
        ],
        [
         611
        ],
        [
         612
        ],
        [
         613
        ],
        [
         614
        ],
        [
         615
        ],
        [
         616
        ],
        [
         617
        ],
        [
         618
        ],
        [
         619
        ],
        [
         620
        ],
        [
         621
        ],
        [
         622
        ],
        [
         623
        ],
        [
         624
        ],
        [
         625
        ],
        [
         626
        ],
        [
         627
        ],
        [
         628
        ],
        [
         629
        ],
        [
         630
        ],
        [
         631
        ],
        [
         632
        ],
        [
         633
        ],
        [
         634
        ],
        [
         635
        ],
        [
         636
        ],
        [
         637
        ],
        [
         638
        ],
        [
         639
        ],
        [
         640
        ],
        [
         641
        ],
        [
         642
        ],
        [
         643
        ],
        [
         644
        ],
        [
         645
        ],
        [
         646
        ],
        [
         647
        ],
        [
         648
        ],
        [
         649
        ],
        [
         650
        ],
        [
         651
        ],
        [
         652
        ],
        [
         653
        ],
        [
         654
        ],
        [
         655
        ],
        [
         656
        ],
        [
         657
        ],
        [
         658
        ],
        [
         659
        ],
        [
         660
        ],
        [
         661
        ],
        [
         662
        ],
        [
         663
        ],
        [
         664
        ],
        [
         665
        ],
        [
         666
        ],
        [
         667
        ],
        [
         668
        ],
        [
         669
        ],
        [
         670
        ],
        [
         671
        ],
        [
         672
        ],
        [
         673
        ],
        [
         674
        ],
        [
         675
        ],
        [
         676
        ],
        [
         677
        ],
        [
         678
        ],
        [
         679
        ],
        [
         680
        ],
        [
         681
        ],
        [
         682
        ],
        [
         683
        ],
        [
         684
        ],
        [
         685
        ],
        [
         686
        ],
        [
         687
        ],
        [
         688
        ],
        [
         689
        ],
        [
         690
        ],
        [
         691
        ],
        [
         692
        ],
        [
         693
        ],
        [
         694
        ],
        [
         695
        ],
        [
         696
        ],
        [
         697
        ],
        [
         698
        ],
        [
         699
        ],
        [
         700
        ],
        [
         701
        ],
        [
         702
        ],
        [
         703
        ],
        [
         704
        ],
        [
         705
        ],
        [
         706
        ],
        [
         707
        ],
        [
         708
        ],
        [
         709
        ],
        [
         710
        ],
        [
         711
        ],
        [
         712
        ],
        [
         713
        ],
        [
         714
        ],
        [
         715
        ],
        [
         716
        ],
        [
         717
        ],
        [
         718
        ],
        [
         719
        ],
        [
         720
        ],
        [
         721
        ],
        [
         722
        ],
        [
         723
        ],
        [
         724
        ],
        [
         725
        ],
        [
         726
        ],
        [
         727
        ],
        [
         728
        ],
        [
         729
        ],
        [
         730
        ],
        [
         731
        ],
        [
         732
        ],
        [
         733
        ],
        [
         734
        ],
        [
         735
        ],
        [
         736
        ],
        [
         737
        ],
        [
         738
        ],
        [
         739
        ],
        [
         740
        ],
        [
         741
        ],
        [
         742
        ],
        [
         743
        ],
        [
         744
        ],
        [
         745
        ],
        [
         746
        ],
        [
         747
        ],
        [
         748
        ],
        [
         749
        ],
        [
         750
        ],
        [
         751
        ],
        [
         752
        ],
        [
         753
        ],
        [
         754
        ],
        [
         755
        ],
        [
         756
        ],
        [
         757
        ],
        [
         758
        ],
        [
         759
        ],
        [
         760
        ],
        [
         761
        ],
        [
         762
        ],
        [
         763
        ],
        [
         764
        ],
        [
         765
        ],
        [
         766
        ],
        [
         767
        ],
        [
         768
        ],
        [
         769
        ],
        [
         770
        ],
        [
         771
        ],
        [
         772
        ],
        [
         773
        ],
        [
         774
        ],
        [
         775
        ],
        [
         776
        ],
        [
         777
        ],
        [
         778
        ],
        [
         779
        ],
        [
         780
        ],
        [
         781
        ],
        [
         782
        ],
        [
         783
        ],
        [
         784
        ],
        [
         785
        ],
        [
         786
        ],
        [
         787
        ],
        [
         788
        ],
        [
         789
        ],
        [
         790
        ],
        [
         791
        ],
        [
         792
        ],
        [
         793
        ],
        [
         794
        ],
        [
         795
        ],
        [
         796
        ],
        [
         797
        ],
        [
         798
        ],
        [
         799
        ],
        [
         800
        ],
        [
         801
        ],
        [
         802
        ],
        [
         803
        ],
        [
         804
        ],
        [
         805
        ],
        [
         806
        ],
        [
         807
        ],
        [
         808
        ],
        [
         809
        ],
        [
         810
        ],
        [
         811
        ],
        [
         812
        ],
        [
         813
        ],
        [
         814
        ],
        [
         815
        ],
        [
         816
        ],
        [
         817
        ],
        [
         818
        ],
        [
         819
        ],
        [
         820
        ],
        [
         821
        ],
        [
         822
        ],
        [
         823
        ],
        [
         824
        ],
        [
         825
        ],
        [
         826
        ],
        [
         827
        ],
        [
         828
        ],
        [
         829
        ],
        [
         830
        ],
        [
         831
        ],
        [
         832
        ],
        [
         833
        ],
        [
         834
        ],
        [
         835
        ],
        [
         836
        ],
        [
         837
        ],
        [
         838
        ],
        [
         839
        ],
        [
         840
        ],
        [
         841
        ],
        [
         842
        ],
        [
         843
        ],
        [
         844
        ],
        [
         845
        ],
        [
         846
        ],
        [
         847
        ],
        [
         848
        ],
        [
         849
        ],
        [
         850
        ],
        [
         851
        ],
        [
         852
        ],
        [
         853
        ],
        [
         854
        ],
        [
         855
        ],
        [
         856
        ],
        [
         857
        ],
        [
         858
        ],
        [
         859
        ],
        [
         860
        ],
        [
         861
        ],
        [
         862
        ],
        [
         863
        ],
        [
         864
        ],
        [
         865
        ],
        [
         866
        ],
        [
         867
        ],
        [
         868
        ],
        [
         869
        ],
        [
         870
        ],
        [
         871
        ],
        [
         872
        ],
        [
         873
        ],
        [
         874
        ],
        [
         875
        ],
        [
         876
        ],
        [
         877
        ],
        [
         878
        ],
        [
         879
        ],
        [
         880
        ],
        [
         881
        ],
        [
         882
        ],
        [
         883
        ],
        [
         884
        ],
        [
         885
        ],
        [
         886
        ],
        [
         887
        ],
        [
         888
        ],
        [
         889
        ],
        [
         890
        ],
        [
         891
        ],
        [
         892
        ],
        [
         893
        ],
        [
         894
        ],
        [
         895
        ],
        [
         896
        ],
        [
         897
        ],
        [
         898
        ],
        [
         899
        ],
        [
         900
        ],
        [
         901
        ],
        [
         902
        ],
        [
         903
        ],
        [
         904
        ],
        [
         905
        ],
        [
         906
        ],
        [
         907
        ],
        [
         908
        ],
        [
         909
        ],
        [
         910
        ],
        [
         911
        ],
        [
         912
        ],
        [
         913
        ],
        [
         914
        ],
        [
         915
        ],
        [
         916
        ],
        [
         917
        ],
        [
         918
        ],
        [
         919
        ],
        [
         920
        ],
        [
         921
        ],
        [
         922
        ],
        [
         923
        ],
        [
         924
        ],
        [
         925
        ],
        [
         926
        ],
        [
         927
        ],
        [
         928
        ],
        [
         929
        ],
        [
         930
        ],
        [
         931
        ],
        [
         932
        ],
        [
         933
        ],
        [
         934
        ],
        [
         935
        ],
        [
         936
        ],
        [
         937
        ],
        [
         938
        ],
        [
         939
        ],
        [
         940
        ],
        [
         941
        ],
        [
         942
        ],
        [
         943
        ],
        [
         944
        ],
        [
         945
        ],
        [
         946
        ],
        [
         947
        ],
        [
         948
        ],
        [
         949
        ],
        [
         950
        ],
        [
         951
        ],
        [
         952
        ],
        [
         953
        ],
        [
         954
        ],
        [
         955
        ],
        [
         956
        ],
        [
         957
        ],
        [
         958
        ],
        [
         959
        ],
        [
         960
        ],
        [
         961
        ],
        [
         962
        ],
        [
         963
        ],
        [
         964
        ],
        [
         965
        ],
        [
         966
        ],
        [
         967
        ],
        [
         968
        ],
        [
         969
        ],
        [
         970
        ],
        [
         971
        ],
        [
         972
        ],
        [
         973
        ],
        [
         974
        ],
        [
         975
        ],
        [
         976
        ],
        [
         977
        ],
        [
         978
        ],
        [
         979
        ],
        [
         980
        ],
        [
         981
        ],
        [
         982
        ],
        [
         983
        ],
        [
         984
        ],
        [
         985
        ],
        [
         986
        ],
        [
         987
        ],
        [
         988
        ],
        [
         989
        ],
        [
         990
        ],
        [
         991
        ],
        [
         992
        ],
        [
         993
        ],
        [
         994
        ],
        [
         995
        ],
        [
         996
        ],
        [
         997
        ],
        [
         998
        ],
        [
         999
        ]
       ],
       "datasetInfos": [],
       "dbfsResultPath": null,
       "isJsonSchema": true,
       "metadata": {},
       "overflow": false,
       "plotOptions": {
        "customPlotOptions": {},
        "displayType": "table",
        "pivotAggregation": null,
        "pivotColumns": null,
        "xColumns": null,
        "yColumns": null
       },
       "removedWidgets": [],
       "schema": [
        {
         "metadata": "{}",
         "name": "id",
         "type": "\"long\""
        }
       ],
       "type": "table"
      }
     },
     "output_type": "display_data"
    },
    {
     "name": "stdout",
     "output_type": "stream",
     "text": [
      "Out[4]: pyspark.sql.dataframe.DataFrame"
     ]
    }
   ],
   "source": [
    "# myRange = spark.range(1000).toDF(\"number\") # toDF is just for renaming\n",
    "myRange = spark.range(1000) # is already a DF, \n",
    "myRange.rdd.getNumPartitions() # get the number of partitions\n",
    "\n",
    "myRange.show(5)\n",
    "myRange.display()\n",
    "type(myRange)"
   ]
  },
  {
   "cell_type": "markdown",
   "metadata": {
    "application/vnd.databricks.v1+cell": {
     "cellMetadata": {},
     "inputWidgets": {},
     "nuid": "2353f71d-18b5-4212-aa53-fa8504c64bae",
     "showTitle": false,
     "title": ""
    }
   },
   "source": [
    "You just ran your first Spark code! We created a DataFrame with one column containing 1,000 rows with values from 0 to 999. This range of numbers represents a distributed collection. When run on a cluster, each part of this range of numbers exists on a different executor. This is a Spark DataFrame."
   ]
  },
  {
   "cell_type": "markdown",
   "metadata": {
    "application/vnd.databricks.v1+cell": {
     "cellMetadata": {},
     "inputWidgets": {},
     "nuid": "0fc9926e-d1e4-4648-85dc-ceba0fc016ff",
     "showTitle": false,
     "title": ""
    }
   },
   "source": [
    "### 2. Transformations & Action\n",
    "Expliquer la notion de Transformation vs Action"
   ]
  },
  {
   "cell_type": "code",
   "execution_count": null,
   "metadata": {
    "application/vnd.databricks.v1+cell": {
     "cellMetadata": {},
     "inputWidgets": {},
     "nuid": "2cb398ab-99b2-424a-be93-021f5815cf99",
     "showTitle": false,
     "title": ""
    }
   },
   "outputs": [
    {
     "name": "stdout",
     "output_type": "stream",
     "text": [
      "+---+\n",
      "| id|\n",
      "+---+\n",
      "|  0|\n",
      "|  2|\n",
      "|  4|\n",
      "|  6|\n",
      "|  8|\n",
      "| 10|\n",
      "| 12|\n",
      "| 14|\n",
      "| 16|\n",
      "| 18|\n",
      "| 20|\n",
      "| 22|\n",
      "| 24|\n",
      "| 26|\n",
      "| 28|\n",
      "| 30|\n",
      "| 32|\n",
      "| 34|\n",
      "| 36|\n",
      "| 38|\n",
      "+---+\n",
      "only showing top 20 rows\n",
      "\n",
      "== Physical Plan ==\n",
      "*(1) Filter ((id#135L % 2) = 0)\n",
      "+- *(1) Range (0, 1000, step=1, splits=8)\n",
      "\n",
      "\n"
     ]
    }
   ],
   "source": [
    "myRange.where(\"id % 2 = 0\")# filter sur les nombres paires\n",
    "divisBy2 = myRange.where(\"id % 2 = 0\") \n",
    "divisBy2\n",
    "\n",
    "# why there is no result => because this is a transformation (transformation is abstract), non execution sur data\n",
    "\n",
    "divisBy2.show()\n",
    "\n",
    "# Here we have a output, Spark will not act on transformations until we call an action, who triggers the transformation, il will declenche execution of myRange then filter (see explain())\n",
    "\n",
    "divisBy2.explain()\n",
    "\n",
    "# You can read explain plans from top to bottom, the top being the end result, and the bottom being the source(s) of data. "
   ]
  },
  {
   "cell_type": "markdown",
   "metadata": {
    "application/vnd.databricks.v1+cell": {
     "cellMetadata": {},
     "inputWidgets": {},
     "nuid": "461e3ee9-a059-4b73-aa1b-9f0bf08449f0",
     "showTitle": false,
     "title": ""
    }
   },
   "source": [
    "Transformation est une opération Spark qui lit un DataFrame (je prends df comme exemple), manipule des colonnes et éventuellement renvoie un autre DataFrame. Les exemples de transformation comprennent les opérations courantes : filtre, sélection, tri, groupby, map, join [écrire au tableau]…\n",
    "\n",
    "Narrow transformations : chaque partition d'entrée ne contribue qu'à une seule partition de sortie.\n",
    "\n",
    "Wide transformation : Les partitions doivent être mélangée pour agrégée pour obtenir un résultat\n",
    "\n",
    "Dans wide transformation il y a forcément Shuffle Operations\n",
    "Shuffle Operations\n",
    "Une Shuffle Operations est déclenchée lorsque des données doivent être mélangées donc déplacées entre les exécuteurs (Spark va échanger des partitions à travers le cluster). Il s'agit d'un élément essentiel de nombreuses transformations, telles que .groupBy(), et de certaines actions, telles que .count()."
   ]
  },
  {
   "cell_type": "code",
   "execution_count": null,
   "metadata": {
    "application/vnd.databricks.v1+cell": {
     "cellMetadata": {},
     "inputWidgets": {},
     "nuid": "bd17020c-3d7d-45fd-9a10-ccab971501e3",
     "showTitle": false,
     "title": ""
    }
   },
   "outputs": [
    {
     "name": "stdout",
     "output_type": "stream",
     "text": [
      "Out[9]: 8"
     ]
    }
   ],
   "source": [
    "# Both df have the same number of partitions, why? Because we did a filter => introduit narrow transformations and wide transformations\n",
    "myRange.rdd.getNumPartitions()\n",
    "\n",
    "divisBy2.rdd.getNumPartitions()"
   ]
  },
  {
   "cell_type": "markdown",
   "metadata": {
    "application/vnd.databricks.v1+cell": {
     "cellMetadata": {},
     "inputWidgets": {},
     "nuid": "614156c3-fca4-4ee3-8116-1ddb69c78623",
     "showTitle": false,
     "title": ""
    }
   },
   "source": [
    "### 3. THEN  \n",
    "#### 3.1 lazy evaluation\n",
    "\n",
    "Maintenant on va voir pour quoi transformation ne donne pas d'output => ne déclenche pas d'éxecution\n",
    "\n",
    "Les transformations sont évaluées en mode Lazy Evaluation. Cela signifie qu'aucun job Spark n'est déclenché par les transformations, quel que soit le nombre de transformations programmées. Pas de job=> pas d’exécution.\n",
    "\n",
    "Lazy Evaluation est un modèle courant dans les langages fonctionnels et de Big Data, par exemple Spark, Scala, Java Stream API, etc. \n",
    "\n",
    "Si pas d’exécution, que fait-elle une transformation ? Elle construit un plan de logique d’exécution, si vous enchainer les transformations, le plan logique va être enrichi. Si nous construisons un gros travail Spark (join, map…) [schemas au tableau] mais que nous spécifions un filtre à la fin qui ne nécessite que l'extraction de quelques lignes uniquement, la manière la plus efficace d'exécuter ce travail est de faire le filter au début. Spark optimisera cela pour nous en poussant le filtre au début (vers le bas sur le plan) automatiquement.\n",
    "\n",
    "Au lieu de modifier les données immédiatement, Spark attendra le dernier moment pour exécuter son plan logique. Il va attendre une action qui déclenche l’exécution. Les avantages sont immenses car Spark peut optimiser l'ensemble du flux de données.\n",
    "\n",
    "D'ailleurs, les utilisateurs peuvent coder des petites transformations (exemple : enchaine plusieurs filters) pour faciliter la lecture et la gestion. Mais Spark regroupe en interne ces transformations, en réduisant le nombre de passages sur les données. Si Spark pouvait regrouper deux transformations en une seule, il n'aurait à lire les données qu'une seule fois pour appliquer les transformations, au lieu de les lire deux fois .\n",
    "\n",
    "\n",
    "#### 3.2 Action\n",
    "\n",
    "Les transformations construit un plan de modification de DataFrame. Plus précisement, les transformations nous permettent d'élaborer un plan logique. Pas d’exécution réelle. Elles ne sont exécutées que lorsqu'une action est appelée sur un DataFrame.\n",
    "\n",
    "Pour déclencher le calcul des transformations, nous appelons une action : une opération Spark qui renvoie un résultat ou écrit sur le disque.\n",
    "- .show() : afficher les données dans la console\n",
    "- .count()\n",
    "- .take() : renvoie le nombre spécifié d'enregistrements au driver process\n",
    "- .collect() : collecte tous les résultats de tous les nœuds de travail et les renvoie au driver process. N'utilisez cette méthode que pour renvoyer de petites données agrégées.\n",
    "- .toPandas() : collecte tous les enregistrements de tous les travailleurs, les renvoie au driver process, puis convertit les résultats en un DataFrame pandas. N'utilisez cette méthode que pour renvoyer de petites données agrégées.\n",
    "- .head(), .first(), .last()\n",
    "\n",
    "#### 3.3 Overview of Structured API Execution\n",
    "Voici un aperçu des étapes à suivre :\n",
    "1. Écrire le DataFrame/Dataset/ SQL Code.\n",
    "2. Si le code est valide, Spark le convertit en plan logique.\n",
    "3. Spark transforme ce plan logique en plan physique, en vérifiant les optimisations en cours de route.\n",
    "4. Spark exécute ensuite ce Plan Physique (manipulations RDD) sur le cluster.\n",
    "\n",
    "#### 3.4 Logical plan\n",
    "1. Convertir un code utilisateur vers un plan non résolu parce que même si votre code est valide (verification de syntaxe : parenthèses, nom de function...) les tables ou les colonnes auxquelles il se réfère peuvent exister ou ne pas exister. \n",
    "2. Spark utilise catalog, un référentiel de toutes les informations sur les tables et les DataFrame, pour résoudre les colonnes et les tables dans l'analyseur.\n",
    "3. Le résultat résolu passe ensuite par l'Optimiseur Catalyst (filtre à la fin...).<br/>\n",
    "=> A la fin vous aurez un plan logique validé et optimisé\n",
    "\n",
    "#### 3.5 Physical plan\n",
    "Après avoir créé un plan logique optimisé, Spark entame l’élaboration du plan physique. Le plan physique, souvent appelé plan Spark, spécifie comment le plan logique sera exécuté concrètement sur le cluster en générant différentes stratégies d'exécution physique. Puis spark va les comparer à l'aide d'un modèle de coût (cost model). Physical plan est réellement une série de RDD et de transformations. C’est la raison pour laquelle vous avez peut-être entendu parler de Spark comme un compilateur - il prend des requêtes (= transformations) de DataFrames, Datasets et SQL et les compile de des transformations RDD, et surtout il effectue énormément d’optimisations avant (et durant ??) cette compilation grâce à Catalyst Optimizer et cost model.\n",
    "\n",
    "#### 3.6 Execution\n",
    "\n",
    "Une fois un plan physique optimal sélectionné, Spark exécute tous ces codes de transformations sur des RDD (lower-level programming interface). Spark effectue des optimisations supplémentaires au moment de l'exécution, en générant du native Java bytecode qui peut supprimer des tâches ou des étapes entières au cours de l'exécution. Enfin, le résultat est renvoyé à l'utilisateur."
   ]
  },
  {
   "cell_type": "markdown",
   "metadata": {
    "application/vnd.databricks.v1+cell": {
     "cellMetadata": {},
     "inputWidgets": {},
     "nuid": "e20694d1-97ce-4428-b235-9998cd1c400b",
     "showTitle": false,
     "title": ""
    }
   },
   "source": [
    "### An End-to-End Example to \"*remettre une couche*\": transformation (narrow or wide), action, partitions, lazy evaluation\n",
    "In the previous example, we created a DataFrame of a range of numbers; not exactly groundbreaking big data. here we will reinforce everything we learned previously in\n",
    "this chapter with a more realistic example"
   ]
  },
  {
   "cell_type": "code",
   "execution_count": null,
   "metadata": {
    "application/vnd.databricks.v1+cell": {
     "cellMetadata": {},
     "inputWidgets": {},
     "nuid": "84fe9413-70f8-4486-9625-e7ecf6d9be08",
     "showTitle": false,
     "title": ""
    }
   },
   "outputs": [],
   "source": [
    "retrail =(spark.read\n",
    "# .option(\"inferSchema\", \"true\")\n",
    ".option(\"header\", \"true\")\n",
    ".csv(\"/databricks-datasets/definitive-guide/data/retail-data/all\"))\n",
    "\n",
    "# we can also use ()"
   ]
  },
  {
   "cell_type": "code",
   "execution_count": null,
   "metadata": {
    "application/vnd.databricks.v1+cell": {
     "cellMetadata": {},
     "inputWidgets": {},
     "nuid": "369bca75-6ae0-424c-8106-d791e4bfc25d",
     "showTitle": false,
     "title": ""
    }
   },
   "outputs": [
    {
     "name": "stdout",
     "output_type": "stream",
     "text": [
      "+---------+---------+--------------------+--------+--------------+---------+----------+--------------+\n",
      "|InvoiceNo|StockCode|         Description|Quantity|   InvoiceDate|UnitPrice|CustomerID|       Country|\n",
      "+---------+---------+--------------------+--------+--------------+---------+----------+--------------+\n",
      "|   536365|   85123A|WHITE HANGING HEA...|       6|12/1/2010 8:26|     2.55|     17850|United Kingdom|\n",
      "|   536365|    71053| WHITE METAL LANTERN|       6|12/1/2010 8:26|     3.39|     17850|United Kingdom|\n",
      "|   536365|   84406B|CREAM CUPID HEART...|       8|12/1/2010 8:26|     2.75|     17850|United Kingdom|\n",
      "|   536365|   84029G|KNITTED UNION FLA...|       6|12/1/2010 8:26|     3.39|     17850|United Kingdom|\n",
      "|   536365|   84029E|RED WOOLLY HOTTIE...|       6|12/1/2010 8:26|     3.39|     17850|United Kingdom|\n",
      "+---------+---------+--------------------+--------+--------------+---------+----------+--------------+\n",
      "only showing top 5 rows\n",
      "\n",
      "Out[16]: 541909"
     ]
    }
   ],
   "source": [
    "retrail.show(5)\n",
    "retrail.count() #541909"
   ]
  },
  {
   "cell_type": "code",
   "execution_count": null,
   "metadata": {
    "application/vnd.databricks.v1+cell": {
     "cellMetadata": {},
     "inputWidgets": {},
     "nuid": "e9c1b937-7528-4a70-976c-6cf748a2ceea",
     "showTitle": false,
     "title": ""
    }
   },
   "outputs": [
    {
     "name": "stdout",
     "output_type": "stream",
     "text": [
      "Out[10]: pandas.core.frame.DataFrame"
     ]
    }
   ],
   "source": [
    "retrail.where(\"Quantity <= 6\").rdd.getNumPartitions() # 8\n",
    "retrail.where(\"Quantity <= 6\").explain() # just FileScan\n",
    "\n",
    "\n",
    "df = retrail.collect()\n",
    "pd_df = retrail.where(\"Quantity <= 6\").toPandas()\n",
    "\n",
    "type(df)\n",
    "\n",
    "type(pd_df)"
   ]
  },
  {
   "cell_type": "code",
   "execution_count": null,
   "metadata": {
    "application/vnd.databricks.v1+cell": {
     "cellMetadata": {},
     "inputWidgets": {},
     "nuid": "e911cb6d-566c-458f-b61a-08629230144e",
     "showTitle": false,
     "title": ""
    }
   },
   "outputs": [
    {
     "name": "stdout",
     "output_type": "stream",
     "text": [
      "== Physical Plan ==\n",
      "AdaptiveSparkPlan isFinalPlan=false\n",
      "+- Sort [UnitPrice#178 ASC NULLS FIRST], true, 0\n",
      "   +- Exchange rangepartitioning(UnitPrice#178 ASC NULLS FIRST, 200), ENSURE_REQUIREMENTS, [plan_id=288]\n",
      "      +- FileScan csv [InvoiceNo#173,StockCode#174,Description#175,Quantity#176,InvoiceDate#177,UnitPrice#178,CustomerID#179,Country#180] Batched: false, DataFilters: [], Format: CSV, Location: InMemoryFileIndex(1 paths)[dbfs:/databricks-datasets/definitive-guide/data/retail-data/all], PartitionFilters: [], PushedFilters: [], ReadSchema: struct<InvoiceNo:string,StockCode:string,Description:string,Quantity:string,InvoiceDate:string,Un...\n",
      "\n",
      "\n"
     ]
    }
   ],
   "source": [
    "retrail.sort(\"UnitPrice\").explain()"
   ]
  },
  {
   "cell_type": "code",
   "execution_count": null,
   "metadata": {
    "application/vnd.databricks.v1+cell": {
     "cellMetadata": {},
     "inputWidgets": {},
     "nuid": "7b7e7d9a-31ed-4c10-aaa1-11db64d5b2ab",
     "showTitle": false,
     "title": ""
    }
   },
   "outputs": [
    {
     "name": "stdout",
     "output_type": "stream",
     "text": [
      "Out[18]: 8"
     ]
    }
   ],
   "source": [
    "retrail.rdd.getNumPartitions()"
   ]
  },
  {
   "cell_type": "code",
   "execution_count": null,
   "metadata": {
    "application/vnd.databricks.v1+cell": {
     "cellMetadata": {},
     "inputWidgets": {},
     "nuid": "af16fa24-ae2c-4f28-8ec5-5e30873ef294",
     "showTitle": false,
     "title": ""
    }
   },
   "outputs": [
    {
     "name": "stdout",
     "output_type": "stream",
     "text": [
      "Out[19]: 9"
     ]
    }
   ],
   "source": [
    "# spark.conf.set(\"spark.sql.shuffle.partitions\", \"12\") # this doesn't work seems that databrick do not accept partitions set\n",
    "retrail.where(\"Quantity <= 6\").sort(\"UnitPrice\").rdd.getNumPartitions()\n",
    "\n",
    "\n",
    "retrail.where(\"Quantity <= 6\").sort(\"UnitPrice\").explain()"
   ]
  },
  {
   "cell_type": "markdown",
   "metadata": {
    "application/vnd.databricks.v1+cell": {
     "cellMetadata": {},
     "inputWidgets": {},
     "nuid": "1118dbe2-b30d-4080-b535-d70fe631ddcb",
     "showTitle": false,
     "title": ""
    }
   },
   "source": [
    "In specifying this action, we started a Spark job that runs our filter transformation (a narrow transformation), then an aggregation (a wide transformation) that performs the sort on a per partition basis, and then a collect, which brings our result to a native object in the respective language.\n",
    "\n",
    "You can see all of this by inspecting the Spark UI, a tool included in Spark with which you can monitor the Spark jobs running on a cluster.\n",
    "\n",
    " You can read explain plans from top to bottom, the top being the end result, and the bottom being the source(s) of data. You will see sort, exchange, filter and FileScan. That’s because the sort of our data is actually a wide transformation because rows will need to be compared with one another."
   ]
  },
  {
   "cell_type": "markdown",
   "metadata": {
    "application/vnd.databricks.v1+cell": {
     "cellMetadata": {},
     "inputWidgets": {},
     "nuid": "039f89a7-1329-42f7-9f99-2df2fe5a4820",
     "showTitle": false,
     "title": ""
    }
   },
   "source": [
    "### 4. Job, stages and tasks"
   ]
  },
  {
   "cell_type": "code",
   "execution_count": null,
   "metadata": {
    "application/vnd.databricks.v1+cell": {
     "cellMetadata": {},
     "inputWidgets": {},
     "nuid": "edbbf90b-9b81-4ffa-b8dc-cfac4c682bdc",
     "showTitle": false,
     "title": ""
    }
   },
   "outputs": [
    {
     "name": "stdout",
     "output_type": "stream",
     "text": [
      "Out[32]: 1"
     ]
    }
   ],
   "source": [
    "df1 = spark.range(2, 100000, 2) # => stage 1, with 8 Tasks\n",
    "df2 = spark.range(2, 100000, 4) # => stage 2, with 8 Tasks\n",
    "\n",
    "step1 = df1.repartition(5) # => stage 3, with 5 Tasks\n",
    "\n",
    "step12 = df2.repartition(6) # => stage 4, with 6 Tasks\n",
    "\n",
    "step2 = step1.selectExpr(\"id * 5 as id\") \n",
    "step3 = step2.join(step12, [\"id\"]) # => 2 instructions as stage 5, with 8 Tasks (by default)\n",
    "step4 = step3.selectExpr(\"sum(id)\") # => stage 6, with 1 Tasks because we aggregate only one result\n",
    "\n",
    "step4.collect()\n",
    "\n",
    "step4.rdd.getNumPartitions()\n",
    "\n",
    "step4.explain()"
   ]
  },
  {
   "cell_type": "markdown",
   "metadata": {
    "application/vnd.databricks.v1+cell": {
     "cellMetadata": {},
     "inputWidgets": {},
     "nuid": "87c388ed-31b8-480c-b7cb-170f79b90cba",
     "showTitle": false,
     "title": ""
    }
   },
   "source": [
    "### 5. Spark UI"
   ]
  }
 ],
 "metadata": {
  "application/vnd.databricks.v1+notebook": {
   "dashboards": [],
   "language": "python",
   "notebookMetadata": {
    "pythonIndentUnit": 4
   },
   "notebookName": "CEPE_00_Intro",
   "notebookOrigID": 1536779814340981,
   "widgets": {}
  },
  "kernelspec": {
   "display_name": "Python 3",
   "language": "python",
   "name": "python3"
  },
  "language_info": {
   "codemirror_mode": {
    "name": "ipython",
    "version": 3
   },
   "file_extension": ".py",
   "mimetype": "text/x-python",
   "name": "python",
   "nbconvert_exporter": "python",
   "pygments_lexer": "ipython3",
   "version": "3.8.3"
  }
 },
 "nbformat": 4,
 "nbformat_minor": 4
}
